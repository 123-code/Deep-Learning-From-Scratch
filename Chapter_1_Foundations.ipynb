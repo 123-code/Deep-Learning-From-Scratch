{
  "nbformat": 4,
  "nbformat_minor": 0,
  "metadata": {
    "colab": {
      "name": "Chapter 1 Foundations",
      "provenance": [],
      "authorship_tag": "ABX9TyPgiYAKKXZa62kgONpMVmPE",
      "include_colab_link": true
    },
    "kernelspec": {
      "name": "python3",
      "display_name": "Python 3"
    },
    "language_info": {
      "name": "python"
    }
  },
  "cells": [
    {
      "cell_type": "markdown",
      "metadata": {
        "id": "view-in-github",
        "colab_type": "text"
      },
      "source": [
        "<a href=\"https://colab.research.google.com/github/123-code/Deep-Learning-From-Scratch/blob/main/Chapter_1_Foundations.ipynb\" target=\"_parent\"><img src=\"https://colab.research.google.com/assets/colab-badge.svg\" alt=\"Open In Colab\"/></a>"
      ]
    },
    {
      "cell_type": "code",
      "metadata": {
        "id": "dA-EjXiVfuys"
      },
      "source": [
        "import matplotlib.pyplot as plt\n",
        "import matplotlib\n",
        "import numpy as np\n",
        "from numpy import ndarray\n",
        "%matplotlib inline\n",
        "\n",
        "from typing import Callable\n",
        "from typing import Dict\n"
      ],
      "execution_count": 1,
      "outputs": []
    },
    {
      "cell_type": "code",
      "metadata": {
        "colab": {
          "base_uri": "https://localhost:8080/"
        },
        "id": "FwN5p2LaZdY6",
        "outputId": "8d5e24a4-5064-4abb-9e89-db0692d27fb2"
      },
      "source": [
        "import numpy as np\n",
        "from typing import List\n",
        "def sum(num1,num2)-> int:\n",
        "  return num1 + num2\n",
        "\n",
        "print(sum(4,5))\n",
        "\n",
        "def square(X:ndarray)-> ndarray:\n",
        "  return np.power(X,2) \n",
        "\n",
        "print(square(4))\n",
        "\n",
        "Array_Function = Callable[[ndarray], ndarray]"
      ],
      "execution_count": 2,
      "outputs": [
        {
          "output_type": "stream",
          "name": "stdout",
          "text": [
            "9\n",
            "16\n"
          ]
        }
      ]
    },
    {
      "cell_type": "code",
      "metadata": {
        "id": "H7UvEIevaday"
      },
      "source": [
        "import numpy as np\n",
        "def sigmoid(X : ndarray)-> ndarray:\n",
        "  return 1/(1+np.exp(-x))\n",
        "\n",
        "def chain_rule(chain:Chain,input_range:ndarray)->ndarray:\n",
        "  (f2(f1(x))' = f2'(f1(x))*f1'(x))  \n",
        "  assert len(chain)==2\n",
        "  assert input_range.ndim==1\n",
        "  \n",
        "  f1 = chain[0] \n",
        "  f2 = chain[1]\n",
        "    \n",
        "  f1_of_x = f1(input_range)\n",
        "\n",
        "  df1dx = deriv(f1,input_range)\n",
        "  df2du = deriv(f2,f1(input_range))\n",
        "\n",
        "  return df1dx * df2du\n"
      ],
      "execution_count": null,
      "outputs": []
    },
    {
      "cell_type": "code",
      "metadata": {
        "id": "f1wzlClRfVjw"
      },
      "source": [
        "def multiple_inputs_add(x: ndarray,\n",
        "                        y: ndarray,\n",
        "                        sigma: Array_Function) -> float:\n",
        "    '''\n",
        "    Function with multiple inputs and addition, forward pass\n",
        "    '''\n",
        "    assert x.shape == y.shape\n",
        "\n",
        "    a = x + y\n",
        "    return sigma(a)\n",
        "\n",
        "    "
      ],
      "execution_count": 4,
      "outputs": []
    },
    {
      "cell_type": "markdown",
      "metadata": {
        "id": "vBl4sZ4S9Sr_"
      },
      "source": [
        "Weighted Sum:\n"
      ]
    },
    {
      "cell_type": "code",
      "metadata": {
        "id": "G49LC11q9VlF"
      },
      "source": [
        "def weighted_sum(x:ndarray,w:ndarray)->ndarray:\n",
        "  assert x.shape[1]==w.shape[0]\n",
        "  W_sum = np.dot(x,w)\n",
        "  return W_sum \n",
        "\n",
        "\n"
      ],
      "execution_count": 5,
      "outputs": []
    },
    {
      "cell_type": "code",
      "metadata": {
        "id": "ilAOfHkmCX97"
      },
      "source": [
        "def matrix_forward(x:ndarray,w:ndarray,sigma:Array_Function)->ndarray:\n",
        "  assert x.shape[1]==w.shape[0]\n",
        "\n",
        "  N = np.dot(x,w)\n",
        "  output = sigma(N)\n",
        "\n",
        "  return output "
      ],
      "execution_count": 6,
      "outputs": []
    },
    {
      "cell_type": "code",
      "metadata": {
        "id": "SHlQuE7PHWAR"
      },
      "source": [
        "def forward_sum(x:ndarray,w:ndarray,sigma:Array_Function)->float:\n",
        "  assert x.shape[1]==w.shape[0]\n",
        "\n",
        "  N = np.dot(x,w)\n",
        "  s = sigma(N)\n",
        "\n",
        "  L = np.sum(s)\n",
        "  return L \n",
        "\n",
        "\n"
      ],
      "execution_count": 7,
      "outputs": []
    }
  ]
}