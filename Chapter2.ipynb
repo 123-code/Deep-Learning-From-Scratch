{
  "nbformat": 4,
  "nbformat_minor": 0,
  "metadata": {
    "colab": {
      "name": "Chapter2.ipynb",
      "provenance": [],
      "authorship_tag": "ABX9TyM66HVLKuqzxbCP0zyqRkCA",
      "include_colab_link": true
    },
    "kernelspec": {
      "name": "python3",
      "display_name": "Python 3"
    },
    "language_info": {
      "name": "python"
    }
  },
  "cells": [
    {
      "cell_type": "markdown",
      "metadata": {
        "id": "view-in-github",
        "colab_type": "text"
      },
      "source": [
        "<a href=\"https://colab.research.google.com/github/123-code/Deep-Learning-From-Scratch/blob/main/Chapter2.ipynb\" target=\"_parent\"><img src=\"https://colab.research.google.com/assets/colab-badge.svg\" alt=\"Open In Colab\"/></a>"
      ]
    },
    {
      "cell_type": "markdown",
      "metadata": {
        "id": "I14419gihfrL"
      },
      "source": [
        "Linear Regression model from scratch"
      ]
    },
    {
      "cell_type": "code",
      "metadata": {
        "id": "DiEX4783hYBD"
      },
      "source": [
        "import numpy as np\n",
        "from numpy import ndarray \n",
        "def forward_linear_regression(X_batch:ndarray,y_batch:ndarray,weights: Dict[str:ndarray]) -> Tuple[float,Dict[str,ndarray]]:\n",
        "\n",
        "\n",
        " \n",
        "# Assert data batches are equal\n",
        "  assert X_batch.shape() == y_batch.shape()\n",
        "# Assert matrices can be multiplied.\n",
        "  assert X_batch.shape[1] == weights['W'].shape[0]\n",
        "  assert weights['B'].shape[0] == weights['B'].shape[1]==1\n",
        "\n",
        "dot_product = np.dot(X_batch,weights['W'])\n",
        "prediction = dot_product + weights['B']\n",
        "\n",
        "loss = np.mean(np.power(y_batch-prediction,2))\n",
        "\n"
      ],
      "execution_count": null,
      "outputs": []
    }
  ]
}