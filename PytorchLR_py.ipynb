{
  "nbformat": 4,
  "nbformat_minor": 0,
  "metadata": {
    "colab": {
      "provenance": [],
      "authorship_tag": "ABX9TyMGGmy5ugF1m1j2gkDGbk2F",
      "include_colab_link": true
    },
    "kernelspec": {
      "name": "python3",
      "display_name": "Python 3"
    },
    "language_info": {
      "name": "python"
    }
  },
  "cells": [
    {
      "cell_type": "markdown",
      "metadata": {
        "id": "view-in-github",
        "colab_type": "text"
      },
      "source": [
        "<a href=\"https://colab.research.google.com/github/123-code/Deep-Learning-From-Scratch/blob/main/PytorchLR_py.ipynb\" target=\"_parent\"><img src=\"https://colab.research.google.com/assets/colab-badge.svg\" alt=\"Open In Colab\"/></a>"
      ]
    },
    {
      "cell_type": "code",
      "execution_count": 31,
      "metadata": {
        "id": "OQGCTRACUqJP"
      },
      "outputs": [],
      "source": [
        "import torch\n",
        "import numpy as np\n",
        "import matplotlib.pyplot as plt\n",
        "import torch.nn as nn"
      ]
    },
    {
      "cell_type": "code",
      "source": [
        "X = torch.linspace(1,50,50).reshape(-1,1)\n",
        "X"
      ],
      "metadata": {
        "colab": {
          "base_uri": "https://localhost:8080/"
        },
        "id": "1z_ptXyXU2yu",
        "outputId": "15dd58f8-abe5-409a-bc09-8c4b14917248"
      },
      "execution_count": 32,
      "outputs": [
        {
          "output_type": "execute_result",
          "data": {
            "text/plain": [
              "tensor([[ 1.],\n",
              "        [ 2.],\n",
              "        [ 3.],\n",
              "        [ 4.],\n",
              "        [ 5.],\n",
              "        [ 6.],\n",
              "        [ 7.],\n",
              "        [ 8.],\n",
              "        [ 9.],\n",
              "        [10.],\n",
              "        [11.],\n",
              "        [12.],\n",
              "        [13.],\n",
              "        [14.],\n",
              "        [15.],\n",
              "        [16.],\n",
              "        [17.],\n",
              "        [18.],\n",
              "        [19.],\n",
              "        [20.],\n",
              "        [21.],\n",
              "        [22.],\n",
              "        [23.],\n",
              "        [24.],\n",
              "        [25.],\n",
              "        [26.],\n",
              "        [27.],\n",
              "        [28.],\n",
              "        [29.],\n",
              "        [30.],\n",
              "        [31.],\n",
              "        [32.],\n",
              "        [33.],\n",
              "        [34.],\n",
              "        [35.],\n",
              "        [36.],\n",
              "        [37.],\n",
              "        [38.],\n",
              "        [39.],\n",
              "        [40.],\n",
              "        [41.],\n",
              "        [42.],\n",
              "        [43.],\n",
              "        [44.],\n",
              "        [45.],\n",
              "        [46.],\n",
              "        [47.],\n",
              "        [48.],\n",
              "        [49.],\n",
              "        [50.]])"
            ]
          },
          "metadata": {},
          "execution_count": 32
        }
      ]
    },
    {
      "cell_type": "code",
      "source": [
        "torch.manual_seed(71)\n",
        "e = torch.randint(-8,9,(50,1),dtype=torch.float)\n",
        "e"
      ],
      "metadata": {
        "colab": {
          "base_uri": "https://localhost:8080/"
        },
        "id": "Z9HU7jpqVOSK",
        "outputId": "f3ab126e-8ca6-4f3c-e55c-9028d79039dd"
      },
      "execution_count": 33,
      "outputs": [
        {
          "output_type": "execute_result",
          "data": {
            "text/plain": [
              "tensor([[ 2.],\n",
              "        [ 7.],\n",
              "        [ 2.],\n",
              "        [ 6.],\n",
              "        [ 2.],\n",
              "        [-4.],\n",
              "        [ 2.],\n",
              "        [-5.],\n",
              "        [ 4.],\n",
              "        [ 1.],\n",
              "        [ 2.],\n",
              "        [ 3.],\n",
              "        [ 1.],\n",
              "        [-8.],\n",
              "        [ 5.],\n",
              "        [ 5.],\n",
              "        [-6.],\n",
              "        [ 0.],\n",
              "        [-7.],\n",
              "        [-8.],\n",
              "        [-3.],\n",
              "        [-1.],\n",
              "        [ 2.],\n",
              "        [-6.],\n",
              "        [-3.],\n",
              "        [ 3.],\n",
              "        [ 2.],\n",
              "        [ 3.],\n",
              "        [ 4.],\n",
              "        [ 5.],\n",
              "        [ 1.],\n",
              "        [ 7.],\n",
              "        [ 6.],\n",
              "        [-1.],\n",
              "        [-6.],\n",
              "        [-5.],\n",
              "        [-3.],\n",
              "        [ 7.],\n",
              "        [ 0.],\n",
              "        [ 8.],\n",
              "        [-1.],\n",
              "        [-2.],\n",
              "        [ 2.],\n",
              "        [-8.],\n",
              "        [-1.],\n",
              "        [ 6.],\n",
              "        [-8.],\n",
              "        [-3.],\n",
              "        [-7.],\n",
              "        [-2.]])"
            ]
          },
          "metadata": {},
          "execution_count": 33
        }
      ]
    },
    {
      "cell_type": "code",
      "source": [
        "y = 2*X + 1 +e\n",
        "y.shape\n",
        "plt.scatter(X.numpy(),y.numpy())"
      ],
      "metadata": {
        "colab": {
          "base_uri": "https://localhost:8080/",
          "height": 447
        },
        "id": "YcBybDU3VuBw",
        "outputId": "38a69d99-fa2a-4d1a-fa9f-38862ffe1809"
      },
      "execution_count": 34,
      "outputs": [
        {
          "output_type": "execute_result",
          "data": {
            "text/plain": [
              "<matplotlib.collections.PathCollection at 0x7f8f2cb350d0>"
            ]
          },
          "metadata": {},
          "execution_count": 34
        },
        {
          "output_type": "display_data",
          "data": {
            "text/plain": [
              "<Figure size 640x480 with 1 Axes>"
            ],
            "image/png": "[encoded data removed]"
          },
          "metadata": {}
        }
      ]
    },
    {
      "cell_type": "code",
      "source": [
        "torch.manual_seed(59)\n",
        "model = nn.Linear(in_features=1,out_features=1)\n",
        "print(model.weight)\n",
        "print(model.bias)"
      ],
      "metadata": {
        "colab": {
          "base_uri": "https://localhost:8080/"
        },
        "id": "14SuUcvuWHUu",
        "outputId": "7da7d63c-d6e3-4ec8-9bbf-e4643a7219b5"
      },
      "execution_count": 35,
      "outputs": [
        {
          "output_type": "stream",
          "name": "stdout",
          "text": [
            "Parameter containing:\n",
            "tensor([[0.1060]], requires_grad=True)\n",
            "Parameter containing:\n",
            "tensor([0.9638], requires_grad=True)\n"
          ]
        }
      ]
    },
    {
      "cell_type": "code",
      "source": [
        "class Model(nn.Module):\n",
        "  def __init__(self,in_features,out_features):\n",
        "    super().__init__()\n",
        "    self.linear = nn.Linear(in_features,out_features)\n",
        "\n",
        "  def forward(self,x):\n",
        "    y_pred = self.linear(x)\n",
        "    return y_pred"
      ],
      "metadata": {
        "id": "A2aZxbzwW3Bg"
      },
      "execution_count": 36,
      "outputs": []
    },
    {
      "cell_type": "code",
      "source": [
        "torch.manual_seed(59)\n",
        "model = Model(1,1)\n",
        "print(model.linear.weight)\n",
        "print(model.linear.bias)"
      ],
      "metadata": {
        "colab": {
          "base_uri": "https://localhost:8080/"
        },
        "id": "HjeoY63sXJVJ",
        "outputId": "bf2e8109-6df2-4a0c-d3a8-1c3d1941920a"
      },
      "execution_count": 37,
      "outputs": [
        {
          "output_type": "stream",
          "name": "stdout",
          "text": [
            "Parameter containing:\n",
            "tensor([[0.1060]], requires_grad=True)\n",
            "Parameter containing:\n",
            "tensor([0.9638], requires_grad=True)\n"
          ]
        }
      ]
    },
    {
      "cell_type": "code",
      "source": [
        "for name,param in model.named_parameters():\n",
        "  print(name,\"\\t\",param.item())\n",
        "\n"
      ],
      "metadata": {
        "colab": {
          "base_uri": "https://localhost:8080/"
        },
        "id": "eSuBSSfyXmVL",
        "outputId": "3f44c1b9-1374-44df-d241-556409a9914c"
      },
      "execution_count": 38,
      "outputs": [
        {
          "output_type": "stream",
          "name": "stdout",
          "text": [
            "linear.weight \t 0.10597813129425049\n",
            "linear.bias \t 0.9637961387634277\n"
          ]
        }
      ]
    },
    {
      "cell_type": "code",
      "source": [
        "!torch"
      ],
      "metadata": {
        "colab": {
          "base_uri": "https://localhost:8080/"
        },
        "id": "Q3xrxHgYYrvf",
        "outputId": "fc2612da-740d-4ba2-802c-665150d7325c"
      },
      "execution_count": 39,
      "outputs": [
        {
          "output_type": "stream",
          "name": "stdout",
          "text": [
            "/bin/bash: torch: command not found\n"
          ]
        }
      ]
    },
    {
      "cell_type": "code",
      "source": [
        "x = torch.tensor([2.0])\n",
        "print(model.forward(x))"
      ],
      "metadata": {
        "colab": {
          "base_uri": "https://localhost:8080/"
        },
        "id": "IxMyQV6oYLu-",
        "outputId": "3cbeb89d-5032-4ebe-cd6b-27d315d20f54"
      },
      "execution_count": 40,
      "outputs": [
        {
          "output_type": "stream",
          "name": "stdout",
          "text": [
            "tensor([1.1758], grad_fn=<AddBackward0>)\n"
          ]
        }
      ]
    },
    {
      "cell_type": "code",
      "source": [
        "x1 = np.linspace(0.0,50.0,50)"
      ],
      "metadata": {
        "id": "ukO3un7QY1e1"
      },
      "execution_count": 41,
      "outputs": []
    },
    {
      "cell_type": "code",
      "source": [
        "x1\n"
      ],
      "metadata": {
        "colab": {
          "base_uri": "https://localhost:8080/"
        },
        "id": "DN69edJGY8Ou",
        "outputId": "ef29bb42-2bc1-41e2-b782-038c4565e7d2"
      },
      "execution_count": 42,
      "outputs": [
        {
          "output_type": "execute_result",
          "data": {
            "text/plain": [
              "array([ 0.        ,  1.02040816,  2.04081633,  3.06122449,  4.08163265,\n",
              "        5.10204082,  6.12244898,  7.14285714,  8.16326531,  9.18367347,\n",
              "       10.20408163, 11.2244898 , 12.24489796, 13.26530612, 14.28571429,\n",
              "       15.30612245, 16.32653061, 17.34693878, 18.36734694, 19.3877551 ,\n",
              "       20.40816327, 21.42857143, 22.44897959, 23.46938776, 24.48979592,\n",
              "       25.51020408, 26.53061224, 27.55102041, 28.57142857, 29.59183673,\n",
              "       30.6122449 , 31.63265306, 32.65306122, 33.67346939, 34.69387755,\n",
              "       35.71428571, 36.73469388, 37.75510204, 38.7755102 , 39.79591837,\n",
              "       40.81632653, 41.83673469, 42.85714286, 43.87755102, 44.89795918,\n",
              "       45.91836735, 46.93877551, 47.95918367, 48.97959184, 50.        ])"
            ]
          },
          "metadata": {},
          "execution_count": 42
        }
      ]
    },
    {
      "cell_type": "code",
      "source": [
        "w1 = 0.1059\n",
        "b1 = 0.9637\n",
        "y1 = w1*x1 + b1\n",
        "y1"
      ],
      "metadata": {
        "colab": {
          "base_uri": "https://localhost:8080/"
        },
        "id": "-o1zqJSSY-L-",
        "outputId": "8c9e9968-daad-4921-922c-a1c03e2acf75"
      },
      "execution_count": 43,
      "outputs": [
        {
          "output_type": "execute_result",
          "data": {
            "text/plain": [
              "array([0.9637    , 1.07176122, 1.17982245, 1.28788367, 1.3959449 ,\n",
              "       1.50400612, 1.61206735, 1.72012857, 1.8281898 , 1.93625102,\n",
              "       2.04431224, 2.15237347, 2.26043469, 2.36849592, 2.47655714,\n",
              "       2.58461837, 2.69267959, 2.80074082, 2.90880204, 3.01686327,\n",
              "       3.12492449, 3.23298571, 3.34104694, 3.44910816, 3.55716939,\n",
              "       3.66523061, 3.77329184, 3.88135306, 3.98941429, 4.09747551,\n",
              "       4.20553673, 4.31359796, 4.42165918, 4.52972041, 4.63778163,\n",
              "       4.74584286, 4.85390408, 4.96196531, 5.07002653, 5.17808776,\n",
              "       5.28614898, 5.3942102 , 5.50227143, 5.61033265, 5.71839388,\n",
              "       5.8264551 , 5.93451633, 6.04257755, 6.15063878, 6.2587    ])"
            ]
          },
          "metadata": {},
          "execution_count": 43
        }
      ]
    },
    {
      "cell_type": "code",
      "source": [
        "plt.scatter(X.numpy(),y.numpy())\n",
        "\n",
        "plt.plot(x1,y1,'r')"
      ],
      "metadata": {
        "colab": {
          "base_uri": "https://localhost:8080/",
          "height": 447
        },
        "id": "vHEcZIKZZkv3",
        "outputId": "a8db1c5d-8ca8-47e9-ae04-f40845e82aca"
      },
      "execution_count": 44,
      "outputs": [
        {
          "output_type": "execute_result",
          "data": {
            "text/plain": [
              "[<matplotlib.lines.Line2D at 0x7f8f2cb9b940>]"
            ]
          },
          "metadata": {},
          "execution_count": 44
        },
        {
          "output_type": "display_data",
          "data": {
            "text/plain": [
              "<Figure size 640x480 with 1 Axes>"
            ],
            "image/png": "[encoded data removed]"
          },
          "metadata": {}
        }
      ]
    },
    {
      "cell_type": "code",
      "source": [
        "criterion = nn.MSELoss()"
      ],
      "metadata": {
        "id": "f8-xnziAaPxn"
      },
      "execution_count": 45,
      "outputs": []
    },
    {
      "cell_type": "markdown",
      "source": [
        "Learning rate tells the optimizer how much to optimize the learning rate on each round. "
      ],
      "metadata": {
        "id": "S5ndzYftaivk"
      }
    },
    {
      "cell_type": "code",
      "source": [
        "optimizer = torch.optim.SGD(model.parameters(),lr=.001)\n"
      ],
      "metadata": {
        "id": "kIuRk9kRage1"
      },
      "execution_count": 46,
      "outputs": []
    },
    {
      "cell_type": "markdown",
      "source": [
        "choose a number of times we iterate over the dataset, and record the losses."
      ],
      "metadata": {
        "id": "NMzH0eJycFzl"
      }
    },
    {
      "cell_type": "code",
      "source": [
        "epochs = 50\n",
        "losses = []\n",
        "\n",
        "for i in range(epochs):\n",
        "  #increments the counter\n",
        "  i+=1\n",
        "  # predicts the output \n",
        "  y_pred = model.forward(X)\n",
        "  #calculates the loss \n",
        "  loss = criterion(y_pred,y)\n",
        "  #appends loss to the losses array \n",
        "  losses.append(loss)\n",
        "  print(f\"epoch{i} Loss:{loss.item()} weight:{model.linear.weight.item()} Bias:{model.linear.bias.item()}\")\n",
        "  optimizer.zero_grad()\n",
        "  loss.backward()\n",
        "  optimizer.step()\n"
      ],
      "metadata": {
        "colab": {
          "base_uri": "https://localhost:8080/"
        },
        "id": "xuMInc-Gbnnt",
        "outputId": "58f8104e-3795-4970-e3d1-6c47414daa46"
      },
      "execution_count": 47,
      "outputs": [
        {
          "output_type": "stream",
          "name": "stdout",
          "text": [
            "epoch1 Loss:3057.216796875 weight:0.10597813129425049 Bias:0.9637961387634277\n",
            "epoch2 Loss:1588.5306396484375 weight:3.334900140762329 Bias:1.0604636669158936\n",
            "epoch3 Loss:830.2999267578125 weight:1.014832854270935 Bias:0.9922628402709961\n",
            "epoch4 Loss:438.8521728515625 weight:2.6817994117736816 Bias:1.0425218343734741\n",
            "epoch5 Loss:236.76144409179688 weight:1.4840213060379028 Bias:1.0076650381088257\n",
            "epoch6 Loss:132.4291229248047 weight:2.3446059226989746 Bias:1.0339646339416504\n",
            "epoch7 Loss:78.56572723388672 weight:1.7262253761291504 Bias:1.0163217782974243\n",
            "epoch8 Loss:50.75775909423828 weight:2.170504093170166 Bias:1.0302516222000122\n",
            "epoch9 Loss:36.4012336730957 weight:1.8512457609176636 Bias:1.0214954614639282\n",
            "epoch10 Loss:28.989229202270508 weight:2.0806007385253906 Bias:1.029038906097412\n",
            "epoch11 Loss:25.162382125854492 weight:1.9157683849334717 Bias:1.0248701572418213\n",
            "epoch12 Loss:23.186473846435547 weight:2.034165620803833 Bias:1.0291162729263306\n",
            "epoch13 Loss:22.166126251220703 weight:1.9490584135055542 Bias:1.027315616607666\n",
            "epoch14 Loss:21.639110565185547 weight:2.010172128677368 Bias:1.0298590660095215\n",
            "epoch15 Loss:21.366771697998047 weight:1.9662237167358398 Bias:1.0292805433273315\n",
            "epoch16 Loss:21.22591781616211 weight:1.997764229774475 Bias:1.030944585800171\n",
            "epoch17 Loss:21.15294647216797 weight:1.9750648736953735 Bias:1.0309966802597046\n",
            "epoch18 Loss:21.115009307861328 weight:1.991337537765503 Bias:1.032206416130066\n",
            "epoch19 Loss:21.095176696777344 weight:1.9796085357666016 Bias:1.0325838327407837\n",
            "epoch20 Loss:21.084684371948242 weight:1.9879988431930542 Bias:1.0335586071014404\n",
            "epoch21 Loss:21.07901382446289 weight:1.981933355331421 Bias:1.034103512763977\n",
            "epoch22 Loss:21.075830459594727 weight:1.9862544536590576 Bias:1.034956693649292\n",
            "epoch23 Loss:21.073938369750977 weight:1.9831126928329468 Bias:1.0355877876281738\n",
            "epoch24 Loss:21.07270050048828 weight:1.9853330850601196 Bias:1.0363779067993164\n",
            "epoch25 Loss:21.071819305419922 weight:1.9837009906768799 Bias:1.037053108215332\n",
            "epoch26 Loss:21.07110595703125 weight:1.9848365783691406 Bias:1.037810206413269\n",
            "epoch27 Loss:21.070486068725586 weight:1.9839837551116943 Bias:1.0385079383850098\n",
            "epoch28 Loss:21.069913864135742 weight:1.9845597743988037 Bias:1.039247751235962\n",
            "epoch29 Loss:21.069368362426758 weight:1.9841090440750122 Bias:1.0399566888809204\n",
            "epoch30 Loss:21.068838119506836 weight:1.9843961000442505 Bias:1.0406872034072876\n",
            "epoch31 Loss:21.068307876586914 weight:1.984152913093567 Bias:1.0414016246795654\n",
            "epoch32 Loss:21.067781448364258 weight:1.9842908382415771 Bias:1.042127013206482\n",
            "epoch33 Loss:21.0672607421875 weight:1.9841549396514893 Bias:1.0428439378738403\n",
            "epoch34 Loss:21.066740036010742 weight:1.9842157363891602 Bias:1.043566346168518\n",
            "epoch35 Loss:21.066225051879883 weight:1.9841355085372925 Bias:1.0442842245101929\n",
            "epoch36 Loss:21.06570816040039 weight:1.9841564893722534 Bias:1.0450047254562378\n",
            "epoch37 Loss:21.065187454223633 weight:1.9841045141220093 Bias:1.0457227230072021\n",
            "epoch38 Loss:21.064668655395508 weight:1.9841052293777466 Bias:1.046441912651062\n",
            "epoch39 Loss:21.064157485961914 weight:1.9840680360794067 Bias:1.0471596717834473\n",
            "epoch40 Loss:21.063636779785156 weight:1.984058141708374 Bias:1.0478779077529907\n",
            "epoch41 Loss:21.063125610351562 weight:1.984028697013855 Bias:1.0485951900482178\n",
            "epoch42 Loss:21.062606811523438 weight:1.9840131998062134 Bias:1.0493125915527344\n",
            "epoch43 Loss:21.062095642089844 weight:1.98398756980896 Bias:1.0500292778015137\n",
            "epoch44 Loss:21.06157684326172 weight:1.9839695692062378 Bias:1.0507458448410034\n",
            "epoch45 Loss:21.06106948852539 weight:1.9839458465576172 Bias:1.051461935043335\n",
            "epoch46 Loss:21.06055450439453 weight:1.9839262962341309 Bias:1.0521777868270874\n",
            "epoch47 Loss:21.060043334960938 weight:1.9839037656784058 Bias:1.0528931617736816\n",
            "epoch48 Loss:21.059532165527344 weight:1.9838833808898926 Bias:1.0536082983016968\n",
            "epoch49 Loss:21.05901336669922 weight:1.9838614463806152 Bias:1.0543230772018433\n",
            "epoch50 Loss:21.058509826660156 weight:1.9838409423828125 Bias:1.055037498474121\n"
          ]
        }
      ]
    },
    {
      "cell_type": "code",
      "source": [
        "x = np.linspace(0.0,50.0,50)\n",
        "current_weight = model.linear.weight.item()\n",
        "current_bias = model.linear.bias.item()\n",
        "predicted_y = current_weight * x + current_bias\n"
      ],
      "metadata": {
        "id": "aJiRnUN4gHGn"
      },
      "execution_count": 49,
      "outputs": []
    },
    {
      "cell_type": "code",
      "source": [
        "print(f\"x{x}\")\n",
        "print(f\"pred:{predicted_y}\")"
      ],
      "metadata": {
        "colab": {
          "base_uri": "https://localhost:8080/"
        },
        "id": "0vhTw_MngtpE",
        "outputId": "d95b8a9c-d79c-46d1-cde7-6a03575c59a4"
      },
      "execution_count": 50,
      "outputs": [
        {
          "output_type": "stream",
          "name": "stdout",
          "text": [
            "x[ 0.          1.02040816  2.04081633  3.06122449  4.08163265  5.10204082\n",
            "  6.12244898  7.14285714  8.16326531  9.18367347 10.20408163 11.2244898\n",
            " 12.24489796 13.26530612 14.28571429 15.30612245 16.32653061 17.34693878\n",
            " 18.36734694 19.3877551  20.40816327 21.42857143 22.44897959 23.46938776\n",
            " 24.48979592 25.51020408 26.53061224 27.55102041 28.57142857 29.59183673\n",
            " 30.6122449  31.63265306 32.65306122 33.67346939 34.69387755 35.71428571\n",
            " 36.73469388 37.75510204 38.7755102  39.79591837 40.81632653 41.83673469\n",
            " 42.85714286 43.87755102 44.89795918 45.91836735 46.93877551 47.95918367\n",
            " 48.97959184 50.        ]\n",
            "pred:[  1.05575156   3.08005679   5.10436203   7.12866726   9.15297249\n",
            "  11.17727772  13.20158295  15.22588818  17.25019342  19.27449865\n",
            "  21.29880388  23.32310911  25.34741434  27.37171957  29.39602481\n",
            "  31.42033004  33.44463527  35.4689405   37.49324573  39.51755096\n",
            "  41.5418562   43.56616143  45.59046666  47.61477189  49.63907712\n",
            "  51.66338236  53.68768759  55.71199282  57.73629805  59.76060328\n",
            "  61.78490851  63.80921375  65.83351898  67.85782421  69.88212944\n",
            "  71.90643467  73.9307399   75.95504514  77.97935037  80.0036556\n",
            "  82.02796083  84.05226606  86.07657129  88.10087653  90.12518176\n",
            "  92.14948699  94.17379222  96.19809745  98.22240268 100.24670792]\n"
          ]
        }
      ]
    },
    {
      "cell_type": "code",
      "source": [],
      "metadata": {
        "id": "qRdmVuPsg7_s"
      },
      "execution_count": null,
      "outputs": []
    },
    {
      "cell_type": "markdown",
      "source": [],
      "metadata": {
        "id": "uOhqCJ7RgsNK"
      }
    }
  ]
}