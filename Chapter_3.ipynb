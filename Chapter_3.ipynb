{
  "nbformat": 4,
  "nbformat_minor": 0,
  "metadata": {
    "colab": {
      "name": "Chapter 3.ipynb",
      "provenance": [],
      "authorship_tag": "ABX9TyMOMMusQEsNfmlGccqBV2lh",
      "include_colab_link": true
    },
    "kernelspec": {
      "name": "python3",
      "display_name": "Python 3"
    },
    "language_info": {
      "name": "python"
    }
  },
  "cells": [
    {
      "cell_type": "markdown",
      "metadata": {
        "id": "view-in-github",
        "colab_type": "text"
      },
      "source": [
        "<a href=\"https://colab.research.google.com/github/123-code/Deep-Learning-From-Scratch/blob/main/Chapter_3.ipynb\" target=\"_parent\"><img src=\"https://colab.research.google.com/assets/colab-badge.svg\" alt=\"Open In Colab\"/></a>"
      ]
    },
    {
      "cell_type": "code",
      "source": [
        "import numpy as np\n",
        "\n",
        "class Operations(Object):\n",
        "  def __init__(self):\n",
        "    pass\n",
        "\n",
        "  def forward(self,input):\n",
        "    self.input = input\n",
        "\n",
        "  def backward(self,output_grad):\n",
        "    self.input_grad = self.input_grad(output_grad)\n",
        "    return self.input_grad\n",
        "\n",
        "  def output(self):\n",
        "    # define for each operation\n",
        "    raise  NotImplementedError()\n",
        "\n",
        "  def input_grad(self):\n",
        "    # define for each operation\n",
        "    raise NotImplementedError()\n",
        "\n",
        "# class specifically for operations that involve parameters\n",
        "\n",
        "class ParamOperation(Operations):\n",
        "  def __init__(self,param):\n",
        "    super().__init__()\n",
        "    self.param=param\n",
        "\n",
        "  def backward(self,output_grad):\n",
        "    self.input_grad = self.input_grad(output_grad)\n",
        "    self.param_grad = self.param_grad(output_grad)\n",
        "    return self.input_grad\n",
        "    \n",
        "\n",
        "  def param_grad(self,output_grad):\n",
        "    # every subclass must implement this function. \n",
        "    raise NotImplementedError()\n",
        "\n",
        "\n",
        "\n",
        "# Coding up matrix multiplication and rules for sending gradients backward.\n",
        "# we can plug tjis code into our layers later\n",
        "class WeightMultiply(ParamOperation):\n",
        "  def __init__(self,w):\n",
        "    super.__init__(w)\n",
        "\n",
        "  def output(self):\n",
        "    return np.dot(self.input,self.param)\n",
        "\n",
        "  def input_grad(self,output_grad):\n",
        "    #output gradients and weights multiplied to get input gradients for  the next layer\n",
        "    return np.dot(output_grad,np.transpose(self.param,(1,0)))\n",
        "    \n",
        "  def param_grad(self,output_grad):\n",
        "    return np.dot(np.transpose(self.input,(1,0)),output_grad)\n",
        "\n",
        "\n",
        "class BiasAdd(ParamOperation):\n",
        "  def __init__(self):\n",
        "    pass\n",
        "  \n",
        "\n",
        "\n",
        "    "
      ],
      "metadata": {
        "id": "BfvZc37OJojk"
      },
      "execution_count": null,
      "outputs": []
    },
    {
      "cell_type": "code",
      "execution_count": null,
      "metadata": {
        "id": "yeFjJ9NAJXh0"
      },
      "outputs": [],
      "source": [
        "class WeightMultiply:\n",
        "  def __init__ (self)"
      ]
    }
  ]
}