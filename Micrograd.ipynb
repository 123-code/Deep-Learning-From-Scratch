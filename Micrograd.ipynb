{
  "nbformat": 4,
  "nbformat_minor": 0,
  "metadata": {
    "colab": {
      "provenance": [],
      "authorship_tag": "ABX9TyP0UwM+CMjuJSvGVKlppiFM",
      "include_colab_link": true
    },
    "kernelspec": {
      "name": "python3",
      "display_name": "Python 3"
    },
    "language_info": {
      "name": "python"
    }
  },
  "cells": [
    {
      "cell_type": "markdown",
      "metadata": {
        "id": "view-in-github",
        "colab_type": "text"
      },
      "source": [
        "<a href=\"https://colab.research.google.com/github/123-code/Deep-Learning-From-Scratch/blob/main/Micrograd.ipynb\" target=\"_parent\"><img src=\"https://colab.research.google.com/assets/colab-badge.svg\" alt=\"Open In Colab\"/></a>"
      ]
    },
    {
      "cell_type": "code",
      "execution_count": 7,
      "metadata": {
        "colab": {
          "base_uri": "https://localhost:8080/"
        },
        "id": "rBC30j9AJgKZ",
        "outputId": "d4fe1c96-cd60-4bc7-eb08-3863e8127508"
      },
      "outputs": [
        {
          "output_type": "stream",
          "name": "stdout",
          "text": [
            "Looking in indexes: https://pypi.org/simple, https://us-python.pkg.dev/colab-wheels/public/simple/\n",
            "Collecting micrograd\n",
            "  Downloading micrograd-0.1.0-py3-none-any.whl (4.9 kB)\n",
            "Installing collected packages: micrograd\n",
            "Successfully installed micrograd-0.1.0\n"
          ]
        }
      ],
      "source": [
        "!pip install micrograd\n"
      ]
    },
    {
      "cell_type": "code",
      "source": [
        "from micrograd.engine import Value\n",
        "\n",
        "class Value:\n",
        "  def __init__(self,data,_children=(),_op=\"\",label=\"\"):\n",
        "    self.data = data\n",
        "    self.grad = 0\n",
        "    self.prev = set(_children)\n",
        "    self._op = _op\n",
        "    self.label = label\n",
        "  \n",
        "  def __repr__(self):\n",
        "    return f\"Value(data={self.data})\"\n",
        "\n",
        "  def __add__(self,other):\n",
        "    result = Value(self.data + other.data,(self,other),\"+\")\n",
        "    return result\n",
        "\n",
        "  def __mul__(self,other):\n",
        "    result = Value(self.data * other.data,(self,other),\"*\")\n",
        "    return result\n",
        "\n",
        "a = Value(2.0,label=\"a\")\n",
        "b =  Value(-3.0,label=\"b\")\n",
        "c = Value(10.0,label=\"c\")\n",
        "e = a*b; e.label=\"e\"\n",
        "#a + b\n",
        "d = e + c; d.label=\"d\"\n",
        "f = Value(-2.0,label=\"f\")\n",
        "l = d+f\n",
        "l\n",
        "# variable grad should store the gradient of the loss with respect to each value. \n",
        "\n"
      ],
      "metadata": {
        "colab": {
          "base_uri": "https://localhost:8080/"
        },
        "id": "U9_IMQ-KSZDv",
        "outputId": "eb56f895-c312-4477-8627-96cafbf963dd"
      },
      "execution_count": 10,
      "outputs": [
        {
          "output_type": "execute_result",
          "data": {
            "text/plain": [
              "Value(data=2.0)"
            ]
          },
          "metadata": {},
          "execution_count": 10
        }
      ]
    },
    {
      "cell_type": "code",
      "source": [
        "L = d*f\n",
        "f.grad = 4.0\n",
        "d.grad = -2\n"
      ],
      "metadata": {
        "id": "duciUfoq4R4p"
      },
      "execution_count": 16,
      "outputs": []
    },
    {
      "cell_type": "code",
      "source": [
        "l.grad = 1"
      ],
      "metadata": {
        "id": "H9kOpraP4BBb"
      },
      "execution_count": 15,
      "outputs": []
    },
    {
      "cell_type": "code",
      "source": [
        "#Dl/dc\n",
        "c.grad = -2.0\n",
        "e.grad = -2.0"
      ],
      "metadata": {
        "id": "vPoweVvX59nt"
      },
      "execution_count": null,
      "outputs": []
    },
    {
      "cell_type": "markdown",
      "source": [
        "Example of gradient check: Derivative of the loss against all the previous multiplication results."
      ],
      "metadata": {
        "id": "bUD4LSY25s0k"
      }
    },
    {
      "cell_type": "code",
      "source": [
        "def lol():\n",
        "  h=0.001\n",
        "  a = Value(2.0,label=\"a\")\n",
        "  b =  Value(-3.0,label=\"b\")\n",
        "  c = Value(10.0,label=\"c\")\n",
        "  e = a*b; e.label=\"e\"\n",
        "#a + b\n",
        "  d = e + c; d.label=\"d\"\n",
        "  f = Value(-2.0,label=\"f\")\n",
        "  l = d*f\n",
        "  l1 = l.data\n",
        "\n",
        "\n",
        "  \n",
        "  a = Value(2.0 ,label=\"a\")\n",
        "  b =  Value(-3.0,label=\"b\")\n",
        "  c = Value(10.0,label=\"c\")\n",
        "  e = a*b; e.label=\"e\"\n",
        "  e.data += h\n",
        "#a + b\n",
        "  d = e + c; d.label=\"d\"\n",
        "  f = Value(-2.0 ,label=\"f\")\n",
        "  l = d*f\n",
        "  l2 = l.data\n",
        "  print((l2-l1)/h)\n",
        "\n",
        "lol()\n"
      ],
      "metadata": {
        "colab": {
          "base_uri": "https://localhost:8080/"
        },
        "id": "2WBrXBuQ3CZS",
        "outputId": "14832802-a514-4c2c-f990-6fe6e4d46680"
      },
      "execution_count": 24,
      "outputs": [
        {
          "output_type": "stream",
          "name": "stdout",
          "text": [
            "-2.000000000000668\n"
          ]
        }
      ]
    }
  ]
}