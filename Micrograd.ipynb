{
  "nbformat": 4,
  "nbformat_minor": 0,
  "metadata": {
    "colab": {
      "provenance": [],
      "authorship_tag": "ABX9TyMSHj9pYl9qiZp8ZODV+W5i",
      "include_colab_link": true
    },
    "kernelspec": {
      "name": "python3",
      "display_name": "Python 3"
    },
    "language_info": {
      "name": "python"
    }
  },
  "cells": [
    {
      "cell_type": "markdown",
      "metadata": {
        "id": "view-in-github",
        "colab_type": "text"
      },
      "source": [
        "<a href=\"https://colab.research.google.com/github/123-code/Deep-Learning-From-Scratch/blob/main/Micrograd.ipynb\" target=\"_parent\"><img src=\"https://colab.research.google.com/assets/colab-badge.svg\" alt=\"Open In Colab\"/></a>"
      ]
    },
    {
      "cell_type": "code",
      "execution_count": 1,
      "metadata": {
        "colab": {
          "base_uri": "https://localhost:8080/"
        },
        "id": "rBC30j9AJgKZ",
        "outputId": "86563d7b-dad5-46f7-f4ae-4d73189202ef"
      },
      "outputs": [
        {
          "output_type": "stream",
          "name": "stdout",
          "text": [
            "Looking in indexes: https://pypi.org/simple, https://us-python.pkg.dev/colab-wheels/public/simple/\n",
            "Collecting micrograd\n",
            "  Downloading micrograd-0.1.0-py3-none-any.whl (4.9 kB)\n",
            "Installing collected packages: micrograd\n",
            "Successfully installed micrograd-0.1.0\n"
          ]
        }
      ],
      "source": [
        "!pip install micrograd\n"
      ]
    },
    {
      "cell_type": "code",
      "source": [
        "from micrograd.engine import Value\n",
        "\n",
        "\n",
        "class Value:\n",
        "  def __init__(self,data,_children=(),_op=\"\",label=\"\"):\n",
        "    self.data = data\n",
        "    self.grad = 0\n",
        "    self.prev = set(_children)\n",
        "    self._op = _op\n",
        "    self.label = label\n",
        "  \n",
        "  def __repr__(self):\n",
        "    return f\"Value(data={self.data})\"\n",
        "\n",
        "  def __add__(self,other):\n",
        "    result = Value(self.data + other.data,(self,other),\"+\")\n",
        "    return result\n",
        "\n",
        "  def __mul__(self,other):\n",
        "    result = Value(self.data * other.data,(self,other),\"*\")\n",
        "    return result\n",
        "\n",
        "  def tanh(self):\n",
        "    x = self.data\n",
        "    t = (math.exp(2*x)-1)/(math.exp(2*x)+12)\n",
        "    out = Value(t,(self,),'tanh')\n",
        "    return out\n",
        "\n",
        "a = Value(2.0,label=\"a\")\n",
        "b =  Value(-3.0,label=\"b\")\n",
        "c = Value(10.0,label=\"c\")\n",
        "e = a*b; e.label=\"e\"\n",
        "#a + b\n",
        "d = e + c; d.label=\"d\"\n",
        "f = Value(-2.0,label=\"f\")\n",
        "l = d+f\n",
        "l\n",
        "# variable grad should store the gradient of the loss with respect to each value. \n",
        "\n"
      ],
      "metadata": {
        "id": "U9_IMQ-KSZDv"
      },
      "execution_count": null,
      "outputs": []
    },
    {
      "cell_type": "code",
      "source": [],
      "metadata": {
        "id": "Yn7FjHDFmO4U"
      },
      "execution_count": null,
      "outputs": []
    },
    {
      "cell_type": "code",
      "source": [
        "L = d*f\n",
        "f.grad = 4.0\n",
        "d.grad = -2\n"
      ],
      "metadata": {
        "id": "duciUfoq4R4p"
      },
      "execution_count": 3,
      "outputs": []
    },
    {
      "cell_type": "code",
      "source": [
        "l.grad = 1"
      ],
      "metadata": {
        "id": "H9kOpraP4BBb"
      },
      "execution_count": 4,
      "outputs": []
    },
    {
      "cell_type": "code",
      "source": [
        "#Dl/dc\n",
        "c.grad = -2.0\n",
        "e.grad = -2.0"
      ],
      "metadata": {
        "id": "vPoweVvX59nt"
      },
      "execution_count": 5,
      "outputs": []
    },
    {
      "cell_type": "code",
      "source": [
        "a.data += 0.01 * a.grad\n",
        "b.data += 0.01 * b.grad\n",
        "c.data += 0.01 * c.grad\n",
        "f.data += 0.01 * f.grad\n",
        "\n",
        "e = a*b\n",
        "d = e+c\n",
        "l = d*f\n",
        "print(l.data)"
      ],
      "metadata": {
        "colab": {
          "base_uri": "https://localhost:8080/"
        },
        "id": "k5QrgR-mf0Uv",
        "outputId": "100c24e0-6319-49d7-95cd-31209d8e1ab0"
      },
      "execution_count": 7,
      "outputs": [
        {
          "output_type": "stream",
          "name": "stdout",
          "text": [
            "-7.800800000000001\n"
          ]
        }
      ]
    },
    {
      "cell_type": "markdown",
      "source": [
        "Example of gradient check: Derivative of the loss against all the previous multiplication results."
      ],
      "metadata": {
        "id": "bUD4LSY25s0k"
      }
    },
    {
      "cell_type": "code",
      "source": [
        "def lol():\n",
        "  h=0.001\n",
        "  a = Value(2.0,label=\"a\")\n",
        "  b =  Value(-3.0,label=\"b\")\n",
        "  c = Value(10.0,label=\"c\")\n",
        "  e = a*b; e.label=\"e\"\n",
        "#a + b\n",
        "  d = e + c; d.label=\"d\"\n",
        "  f = Value(-2.0,label=\"f\")\n",
        "  l = d*f\n",
        "  l1 = l.data\n",
        "\n",
        "\n",
        "  \n",
        "  a = Value(2.0 ,label=\"a\")\n",
        "  b =  Value(-3.0,label=\"b\")\n",
        "  c = Value(10.0,label=\"c\")\n",
        "  e = a*b; e.label=\"e\"\n",
        "  e.data += h\n",
        "#a + b\n",
        "  d = e + c; d.label=\"d\"\n",
        "  f = Value(-2.0 ,label=\"f\")\n",
        "  l = d*f\n",
        "  l2 = l.data\n",
        "  print((l2-l1)/h)\n",
        "\n",
        "lol()\n"
      ],
      "metadata": {
        "colab": {
          "base_uri": "https://localhost:8080/"
        },
        "id": "2WBrXBuQ3CZS",
        "outputId": "a85f50be-433f-4531-e0ba-45d82467bcba"
      },
      "execution_count": 6,
      "outputs": [
        {
          "output_type": "stream",
          "name": "stdout",
          "text": [
            "-2.000000000000668\n"
          ]
        }
      ]
    },
    {
      "cell_type": "markdown",
      "source": [
        "Neuron basic code"
      ],
      "metadata": {
        "id": "NHLLKYAmh5Mi"
      }
    },
    {
      "cell_type": "code",
      "source": [
        "import numpy as np"
      ],
      "metadata": {
        "id": "gOBmAQMLiyyZ"
      },
      "execution_count": 8,
      "outputs": []
    },
    {
      "cell_type": "code",
      "source": [
        "#inputs x1,x2\n",
        "x1 = Value(2.0,label='x1')\n",
        "x2=Value(0.0,label='x2')\n",
        "#weights w1,w2\n",
        "w1=Value(-3.0,label='w1')\n",
        "w2=Value(1.0,label='w2')\n",
        "\n",
        "# neuron bias\n",
        "b = Value(6.7,label='b')\n",
        "\n",
        "x1w1 = np.dot(x1,w1)\n",
        "x2w2 = np.dot(x2,w2)\n",
        "wsum = x1w1 * x2w2 + b\n",
        "o = wsum.tanh()\n",
        "print(o)\n",
        "print(wsum)\n",
        "\n",
        "#apply activation function\n",
        "\n",
        "\n"
      ],
      "metadata": {
        "colab": {
          "base_uri": "https://localhost:8080/",
          "height": 351
        },
        "id": "NvjGCx7ch_GV",
        "outputId": "4c089406-a8cf-496c-e487-d92f73e78c13"
      },
      "execution_count": 14,
      "outputs": [
        {
          "output_type": "error",
          "ename": "NameError",
          "evalue": "ignored",
          "traceback": [
            "\u001b[0;31m---------------------------------------------------------------------------\u001b[0m",
            "\u001b[0;31mNameError\u001b[0m                                 Traceback (most recent call last)",
            "\u001b[0;32m<ipython-input-14-63d9b3ef6a9c>\u001b[0m in \u001b[0;36m<cell line: 14>\u001b[0;34m()\u001b[0m\n\u001b[1;32m     12\u001b[0m \u001b[0mx2w2\u001b[0m \u001b[0;34m=\u001b[0m \u001b[0mnp\u001b[0m\u001b[0;34m.\u001b[0m\u001b[0mdot\u001b[0m\u001b[0;34m(\u001b[0m\u001b[0mx2\u001b[0m\u001b[0;34m,\u001b[0m\u001b[0mw2\u001b[0m\u001b[0;34m)\u001b[0m\u001b[0;34m\u001b[0m\u001b[0;34m\u001b[0m\u001b[0m\n\u001b[1;32m     13\u001b[0m \u001b[0mwsum\u001b[0m \u001b[0;34m=\u001b[0m \u001b[0mx1w1\u001b[0m \u001b[0;34m*\u001b[0m \u001b[0mx2w2\u001b[0m \u001b[0;34m+\u001b[0m \u001b[0mb\u001b[0m\u001b[0;34m\u001b[0m\u001b[0;34m\u001b[0m\u001b[0m\n\u001b[0;32m---> 14\u001b[0;31m \u001b[0mo\u001b[0m \u001b[0;34m=\u001b[0m \u001b[0mwsum\u001b[0m\u001b[0;34m.\u001b[0m\u001b[0mtanh\u001b[0m\u001b[0;34m(\u001b[0m\u001b[0;34m)\u001b[0m\u001b[0;34m\u001b[0m\u001b[0;34m\u001b[0m\u001b[0m\n\u001b[0m\u001b[1;32m     15\u001b[0m \u001b[0mprint\u001b[0m\u001b[0;34m(\u001b[0m\u001b[0mo\u001b[0m\u001b[0;34m)\u001b[0m\u001b[0;34m\u001b[0m\u001b[0;34m\u001b[0m\u001b[0m\n\u001b[1;32m     16\u001b[0m \u001b[0mprint\u001b[0m\u001b[0;34m(\u001b[0m\u001b[0mwsum\u001b[0m\u001b[0;34m)\u001b[0m\u001b[0;34m\u001b[0m\u001b[0;34m\u001b[0m\u001b[0m\n",
            "\u001b[0;32m<ipython-input-13-bfb8f1d1cfb3>\u001b[0m in \u001b[0;36mtanh\u001b[0;34m(self)\u001b[0m\n\u001b[1;32m     22\u001b[0m   \u001b[0;32mdef\u001b[0m \u001b[0mtanh\u001b[0m\u001b[0;34m(\u001b[0m\u001b[0mself\u001b[0m\u001b[0;34m)\u001b[0m\u001b[0;34m:\u001b[0m\u001b[0;34m\u001b[0m\u001b[0;34m\u001b[0m\u001b[0m\n\u001b[1;32m     23\u001b[0m     \u001b[0mx\u001b[0m \u001b[0;34m=\u001b[0m \u001b[0mself\u001b[0m\u001b[0;34m.\u001b[0m\u001b[0mdata\u001b[0m\u001b[0;34m\u001b[0m\u001b[0;34m\u001b[0m\u001b[0m\n\u001b[0;32m---> 24\u001b[0;31m     \u001b[0mt\u001b[0m \u001b[0;34m=\u001b[0m \u001b[0;34m(\u001b[0m\u001b[0mmath\u001b[0m\u001b[0;34m.\u001b[0m\u001b[0mexp\u001b[0m\u001b[0;34m(\u001b[0m\u001b[0;36m2\u001b[0m\u001b[0;34m*\u001b[0m\u001b[0mx\u001b[0m\u001b[0;34m)\u001b[0m\u001b[0;34m-\u001b[0m\u001b[0;36m1\u001b[0m\u001b[0;34m)\u001b[0m\u001b[0;34m/\u001b[0m\u001b[0;34m(\u001b[0m\u001b[0mmath\u001b[0m\u001b[0;34m.\u001b[0m\u001b[0mexp\u001b[0m\u001b[0;34m(\u001b[0m\u001b[0;36m2\u001b[0m\u001b[0;34m*\u001b[0m\u001b[0mx\u001b[0m\u001b[0;34m)\u001b[0m\u001b[0;34m+\u001b[0m\u001b[0;36m12\u001b[0m\u001b[0;34m)\u001b[0m\u001b[0;34m\u001b[0m\u001b[0;34m\u001b[0m\u001b[0m\n\u001b[0m\u001b[1;32m     25\u001b[0m     \u001b[0mout\u001b[0m \u001b[0;34m=\u001b[0m \u001b[0mValue\u001b[0m\u001b[0;34m(\u001b[0m\u001b[0mt\u001b[0m\u001b[0;34m,\u001b[0m\u001b[0;34m(\u001b[0m\u001b[0mself\u001b[0m\u001b[0;34m,\u001b[0m\u001b[0;34m)\u001b[0m\u001b[0;34m,\u001b[0m\u001b[0;34m'tanh'\u001b[0m\u001b[0;34m)\u001b[0m\u001b[0;34m\u001b[0m\u001b[0;34m\u001b[0m\u001b[0m\n\u001b[1;32m     26\u001b[0m     \u001b[0;32mreturn\u001b[0m \u001b[0mout\u001b[0m\u001b[0;34m\u001b[0m\u001b[0;34m\u001b[0m\u001b[0m\n",
            "\u001b[0;31mNameError\u001b[0m: name 'math' is not defined"
          ]
        }
      ]
    }
  ]
}