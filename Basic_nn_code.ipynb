{
  "nbformat": 4,
  "nbformat_minor": 0,
  "metadata": {
    "colab": {
      "name": "Basic nn code.ipynb",
      "provenance": [],
      "authorship_tag": "ABX9TyN3atdmsxLofWxUa+SXwjGi",
      "include_colab_link": true
    },
    "kernelspec": {
      "name": "python3",
      "display_name": "Python 3"
    },
    "language_info": {
      "name": "python"
    }
  },
  "cells": [
    {
      "cell_type": "markdown",
      "metadata": {
        "id": "view-in-github",
        "colab_type": "text"
      },
      "source": [
        "<a href=\"https://colab.research.google.com/github/123-code/Deep-Learning-From-Scratch/blob/main/Basic_nn_code.ipynb\" target=\"_parent\"><img src=\"https://colab.research.google.com/assets/colab-badge.svg\" alt=\"Open In Colab\"/></a>"
      ]
    },
    {
      "cell_type": "code",
      "metadata": {
        "colab": {
          "base_uri": "https://localhost:8080/"
        },
        "id": "9eMytVNeF1if",
        "outputId": "1f4fb0a2-bc80-4c84-ae99-d58b0de94c98"
      },
      "source": [
        "def elementwise_mult(a,b):\n",
        "  assert (len(a)==len(b))\n",
        "  result = []\n",
        "  i=0\n",
        "  for i in range(len(a)):\n",
        "    \n",
        "    result.append (a[i] * b[i])\n",
        "    return result\n",
        "\n",
        "a = [2,3,1,6]\n",
        "b = [2,9,6,4]\n",
        "\n",
        "print(elementwise_mult(a,b))"
      ],
      "execution_count": 25,
      "outputs": [
        {
          "output_type": "stream",
          "name": "stdout",
          "text": [
            "[4]\n"
          ]
        }
      ]
    },
    {
      "cell_type": "code",
      "metadata": {
        "colab": {
          "base_uri": "https://localhost:8080/"
        },
        "id": "n3TrJUkCIVWa",
        "outputId": "7e83c4b5-5b76-4f5c-fed2-eb80884cfead"
      },
      "source": [
        "weights = [0.1,0.2,0]\n",
        "\n",
        "# nn fake data\n",
        "toes = [8.5,9.5,9.9,9.0]\n",
        "wlrec = [0.65,0.8,0.8,0.9]\n",
        "nfans = [1.2,1.3,0.5,1.0]\n",
        "\n",
        "inp = [toes[0],wlrec[0],nfans[0]]\n",
        "\n",
        "def weighted_sum(a,b):\n",
        "  output = 0\n",
        "  assert (len(a) == len(b))\n",
        "  for i in range(len(a)):\n",
        "    output += a[i] * b[i]\n",
        "  return output  \n",
        "\n",
        "\n",
        "def neural_network(inputs,weights):\n",
        "  prediction = weighted_sum(inputs,weights)\n",
        "\n",
        "  return prediction \n",
        "\n",
        "\n",
        "pred = neural_network(inp,weights)\n",
        "print(pred)\n",
        "\n",
        "a = [0,1,0,1]\n",
        "b = [1,0,1,0]\n",
        "print(weighted_sum(a,b))\n"
      ],
      "execution_count": 29,
      "outputs": [
        {
          "output_type": "stream",
          "name": "stdout",
          "text": [
            "0.9800000000000001\n",
            "0\n"
          ]
        }
      ]
    },
    {
      "cell_type": "code",
      "metadata": {
        "colab": {
          "base_uri": "https://localhost:8080/"
        },
        "id": "jRRwPA1NTJQx",
        "outputId": "f8fcd976-2994-42ef-c731-bb83862b7736"
      },
      "source": [
        "import numpy as np\n",
        "weights = np.array([0.1,0.2,0])\n",
        "\n",
        "toes = np.array([8.5,9.5,9.9,9.0])\n",
        "wlrec = np.array([0.65,0.8,0.8,0.9])\n",
        "nfans = np.array([1.2,1.3,0.5,1.0])\n",
        "\n",
        "inputs = np.array([toes[0],wlrec[0],nfans[0]])\n",
        "\n",
        "def neural_net(a,b):\n",
        "  \n",
        "  prediction = np.dot(a,b)\n",
        "\n",
        "  return prediction\n",
        "\n",
        "pred = neural_net(inputs,weights)\n",
        "print(pred)"
      ],
      "execution_count": 33,
      "outputs": [
        {
          "output_type": "stream",
          "name": "stdout",
          "text": [
            "0.9800000000000001\n"
          ]
        }
      ]
    },
    {
      "cell_type": "code",
      "metadata": {
        "colab": {
          "base_uri": "https://localhost:8080/"
        },
        "id": "jWib6YygJ-Ou",
        "outputId": "cabe3e9e-5a70-46e4-a885-7d4b1476e957"
      },
      "source": [
        "weights = [0.3,0.2,0.9]\n",
        "fake_datapoints = [0.65,0.8,0.8,0.9]\n",
        "\n",
        "inputs = fake_datapoints[0]\n",
        "\n",
        "\n",
        "def w_sum(inputs,weights):\n",
        "  # predicting three different values, init at 0\n",
        "  output = [0,0,0]\n",
        "  assert(len(output)== len(weights))\n",
        "\n",
        "  for i in range(len(weights)):\n",
        "    output[i] = inputs * weights[i]\n",
        "  return output \n",
        "\n",
        "    \n",
        "\n",
        "def neural_net(inputs,weights):\n",
        "  pred = w_sum(inputs,weights)\n",
        "  return pred\n",
        "\n",
        "prediction = neural_net(inputs,weights)\n",
        "print(prediction)"
      ],
      "execution_count": 6,
      "outputs": [
        {
          "output_type": "stream",
          "name": "stdout",
          "text": [
            "[0.195, 0.13, 0.5850000000000001]\n"
          ]
        }
      ]
    }
  ]
}